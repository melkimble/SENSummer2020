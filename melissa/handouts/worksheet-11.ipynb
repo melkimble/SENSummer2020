{
 "cells": [
  {
   "cell_type": "markdown",
   "metadata": {},
   "source": [
    "# Classification\n",
    "https://cyberhelp.sesync.org/basic-Python-lesson/course/\n",
    "\n",
    "## Lesson Objectives\n",
    "Earn your Python “learner’s permit”\n",
    "Work with Pandas, the DataFrame package\n",
    "Recognize differences between R and Python\n",
    "Hit the autubahn with Scikit-learn\n",
    "Specific Achievements\n",
    "Differentiate between data types and structures\n",
    "Learn to use indentation as syntax\n",
    "Import data and try a simple “split-apply-combine”\n",
    "Implement a SVM for binary classification\n",
    "Why learn Python? While much of the academic research community has dived into R for an open source toolbox for data science, there are plenty of reasons to learn Python too. Some find they can learn to write scripts more quickly in Python, others find its object orientation a real boon. This lesson works towards a simple “machine learning” problem, which has long been a speciality of Python’s Scikit-learn package.\n",
    "\n",
    "## Machine Learning\n",
    "Machine Learning is another take on regression (for continuous response) and classification (for categorical response).\n",
    "\n",
    "Emphasis on prediction over parameter inference\n",
    "Equal emphasis on probabilistic and non-probabilistic methods: whatever works\n",
    "Not necessarilly “supervised” (e.g. clustering)\n",
    "This lesson will step through a non-probabilistic classifier, because it’s at far end of the spectrum relative to generalized linear regression. Some classification methods have probabilistic interpretations: logistic regression is actually a classifier, whether or not you follow through to choosing the most likely outcome or are satisfied with estimating its probability. Others optimize the classifier based on other abstract quantities: SVMs maximize the distance between the “support vectors”.\n",
    "\n",
    "## Jupyter\n",
    "Sign into JupyterHub and open up worksheet-11.ipynb. This worksheet is an Jupyter Notebook document: it is divided into “cells” that are run independently but access the same Python interpreter. Use the Notebook to write and annotate code.\n",
    "\n",
    "After opening worksheet-11.ipynb, right click anywhere in your notebook and choose “Create Console for Notebook”. Drag-and-drop the tabs into whatever arrangement you like."
   ]
  },
  {
   "cell_type": "markdown",
   "metadata": {},
   "source": [
    "### Variables\n",
    "Variable assignment attaches the label left of an = to the return value of the expression on its right."
   ]
  },
  {
   "cell_type": "code",
   "execution_count": null,
   "metadata": {},
   "outputs": [],
   "source": [
    "a = 'xyz'\n",
    "a"
   ]
  },
  {
   "cell_type": "markdown",
   "metadata": {},
   "source": [
    "Colloquially, you might say the new variable a equals 'xyz', but Python makes it easy to “go deeper”. There can be only one string 'xyz', so the Python interpreter makes a into another label for the same 'xyz', which we can verify by id().\n",
    "\n",
    "The “in-memory” location of a returned by id() …"
   ]
  },
  {
   "cell_type": "code",
   "execution_count": null,
   "metadata": {},
   "outputs": [],
   "source": [
    "id(a)\n",
    "id('xyz')\n",
    "a is 'xyz'"
   ]
  },
  {
   "cell_type": "markdown",
   "metadata": {},
   "source": [
    "… is equal to that of xyz itself:\n",
    "The idiom to test this “sameness” is typical of the Python language: it uses plain English when words will suffice."
   ]
  },
  {
   "cell_type": "markdown",
   "metadata": {},
   "source": [
    "### Equal but not the Same\n",
    "The id() function helps demonstrate that “equal” is not the “same”."
   ]
  },
  {
   "cell_type": "code",
   "execution_count": null,
   "metadata": {
    "collapsed": true,
    "jupyter": {
     "outputs_hidden": true
    }
   },
   "outputs": [],
   "source": [
    "b = [1,2,3]\n",
    "id(b)"
   ]
  },
  {
   "cell_type": "markdown",
   "metadata": {},
   "source": [
    "Even though b == [1, 2, 3] returns True, these are not the same object:"
   ]
  },
  {
   "cell_type": "code",
   "execution_count": null,
   "metadata": {},
   "outputs": [],
   "source": [
    "id([1, 2, 3])\n",
    "b is [1, 2, 3]"
   ]
  },
  {
   "cell_type": "markdown",
   "metadata": {},
   "source": [
    "### Side-effects\n",
    "The reason to be aware of what b is has to do with “side-effects”, an very import part of Python programming. A side-effect occurs when an expression generates some ripples other than its return value."
   ]
  },
  {
   "cell_type": "code",
   "execution_count": 1,
   "metadata": {},
   "outputs": [
    {
     "ename": "NameError",
     "evalue": "name 'b' is not defined",
     "output_type": "error",
     "traceback": [
      "\u001b[0;31m---------------------------------------------------------------------------\u001b[0m",
      "\u001b[0;31mNameError\u001b[0m                                 Traceback (most recent call last)",
      "\u001b[0;32m<ipython-input-1-81e119d9eb25>\u001b[0m in \u001b[0;36m<module>\u001b[0;34m\u001b[0m\n\u001b[0;32m----> 1\u001b[0;31m \u001b[0mb\u001b[0m\u001b[0;34m.\u001b[0m\u001b[0mpop\u001b[0m\u001b[0;34m(\u001b[0m\u001b[0;34m)\u001b[0m\u001b[0;34m\u001b[0m\u001b[0;34m\u001b[0m\u001b[0m\n\u001b[0m",
      "\u001b[0;31mNameError\u001b[0m: name 'b' is not defined"
     ]
    }
   ],
   "source": [
    "b.pop()\n",
    "b"
   ]
  },
  {
   "cell_type": "markdown",
   "metadata": {},
   "source": [
    "Python is an object-oriented language from the ground up—everything is an “object” with some state to be more or less aware of. And side-effects don’t touch the label, they effect what the label is assigned to (i.e. what it is).\n",
    "\n",
    "### Question\n",
    "Re-check the “in-memory” location—is it the same b?\n",
    "### Answer\n",
    "Yes! The list got shorter but it is the same list.\n",
    "Side-effects trip up Python programmers when an object has multiple labels, which is not so unusual:"
   ]
  },
  {
   "cell_type": "code",
   "execution_count": null,
   "metadata": {},
   "outputs": [],
   "source": [
    "c = b\n",
    "b.pop()\n",
    "c"
   ]
  },
  {
   "cell_type": "markdown",
   "metadata": {},
   "source": [
    "The assignment to c does not create a new list, so the side-effect of popping off the tail of b ripples into c.\n",
    "\n",
    "A common mistake for those coming to Python from R, is to write b = b.append(4), which overwrites b with the value None that happens to be returned by the append() method."
   ]
  },
  {
   "cell_type": "markdown",
   "metadata": {},
   "source": [
    "### Data types\n",
    "The basic data types are\n",
    "\n",
    "'int'\tintegers\n",
    "'float'\treal numbers\n",
    "'str'\tcharacter strings\n",
    "'bool'\tTrue or False\n",
    "'NoneType'\tNone\n",
    "Any object can be queried with type()"
   ]
  },
  {
   "cell_type": "code",
   "execution_count": null,
   "metadata": {
    "collapsed": true,
    "jupyter": {
     "outputs_hidden": true
    }
   },
   "outputs": [],
   "source": [
    "type('x')"
   ]
  },
  {
   "cell_type": "markdown",
   "metadata": {},
   "source": [
    "### Operators\n",
    "Python supports the usual (or not) arithmetic operators for numeric types:\n",
    "\n",
    "+\taddition\n",
    "-\tsubtraction\n",
    "*\tmultiplication\n",
    "/\tfloating-point division\n",
    "**\texponent\n",
    "%\tmodulus\n",
    "//\tfloor division\n",
    "One or both of these might be a surprise:"
   ]
  },
  {
   "cell_type": "code",
   "execution_count": null,
   "metadata": {},
   "outputs": [],
   "source": [
    "5 ** 7"
   ]
  },
  {
   "cell_type": "code",
   "execution_count": null,
   "metadata": {},
   "outputs": [],
   "source": [
    "2 // 3"
   ]
  },
  {
   "cell_type": "code",
   "execution_count": null,
   "metadata": {},
   "outputs": [],
   "source": [
    "a * 2"
   ]
  },
  {
   "cell_type": "markdown",
   "metadata": {},
   "source": [
    "Comparison operators are symbols or plain english:\n",
    "\n",
    "==\tequal\n",
    "!=\tnon-equal\n",
    ">, <\tgreater, lesser\n",
    ">=, <=\tgreater or equal, lesser or equal\n",
    "and\tlogical and\n",
    "or\tlogical or\n",
    "not\tlogical negation\n",
    "in\tlogical membership"
   ]
  },
  {
   "cell_type": "markdown",
   "metadata": {},
   "source": [
    "### Data structures\n",
    "The built-in structures for holding multiple values are:\n",
    "\n",
    "Tuple\n",
    "List\n",
    "Set\n",
    "Dictionary\n",
    "Tuple\n",
    "The simplest kind of sequence, a tuple is declared with comma-separated values, optionally inside (...). The tuple is a common type of return value for functions with multiple outputs."
   ]
  },
  {
   "cell_type": "code",
   "execution_count": null,
   "metadata": {
    "collapsed": true,
    "jupyter": {
     "outputs_hidden": true
    }
   },
   "outputs": [],
   "source": [
    "T = 'x', 3, True\n",
    "type(T)"
   ]
  },
  {
   "cell_type": "code",
   "execution_count": null,
   "metadata": {
    "collapsed": true,
    "jupyter": {
     "outputs_hidden": true
    }
   },
   "outputs": [],
   "source": [
    "T = 'cat',\n",
    "type(T)"
   ]
  },
  {
   "cell_type": "code",
   "execution_count": null,
   "metadata": {},
   "outputs": [],
   "source": [
    "L = [3.14, 'xyz', T]\n",
    "type(L)"
   ]
  },
  {
   "cell_type": "markdown",
   "metadata": {},
   "source": [
    "### Subsetting Tuples and Lists\n",
    "Subsetting elements from a tuple or list is performed with square brackets in both cases, and selects elements using their integer position starting from zero—their “index”."
   ]
  },
  {
   "cell_type": "code",
   "execution_count": null,
   "metadata": {},
   "outputs": [],
   "source": [
    "L[0]\n"
   ]
  },
  {
   "cell_type": "markdown",
   "metadata": {},
   "source": [
    "Negative indices are allowed, and refer to the reverse ordering: -1 is the last item in the list, -2 the second-to-last item, and so on."
   ]
  },
  {
   "cell_type": "code",
   "execution_count": null,
   "metadata": {},
   "outputs": [],
   "source": [
    "L[-1]"
   ]
  },
  {
   "cell_type": "markdown",
   "metadata": {},
   "source": [
    "The syntax L[i:j] selects a sub-list starting with the element at index i and ending with the element at index j - 1."
   ]
  },
  {
   "cell_type": "code",
   "execution_count": null,
   "metadata": {},
   "outputs": [],
   "source": [
    "L[0:2]"
   ]
  },
  {
   "cell_type": "markdown",
   "metadata": {},
   "source": [
    "A blank space before or after the “:” indicates the start or end of the list, respectively. For example, the previous example could have been written L[:2].\n",
    "\n",
    "A potentially useful trick to remember the list subsetting rules in Python is to picture the indices as “dividers” between list elements.\n",
    "\n",
    " 0      1       2          3 \n",
    " | 3.14 | 'xyz' | ('cat',) |\n",
    "-3     -2      -1\n",
    "Positive indices are written at the top and negative indices at the bottom. L[i] returns the element to the right of i whereas L[i:j] returns elements between i and j.\n",
    "\n",
    "## Set\n",
    "The third and last “sequence” data structure is a set, useful for operations like “union” and “difference”. Declare a set with comma-separated values inside {...} or by casting another sequence with set()."
   ]
  },
  {
   "cell_type": "code",
   "execution_count": null,
   "metadata": {
    "collapsed": true,
    "jupyter": {
     "outputs_hidden": true
    }
   },
   "outputs": [],
   "source": [
    "S1 = set(L)\n",
    "S2 = {3.14, 'z'}\n",
    "S1.difference(S2)"
   ]
  },
  {
   "cell_type": "markdown",
   "metadata": {},
   "source": [
    "Python is a rather principled language: a set is technically unordered, so its elements do not have an index. You cannot subset a set using [...].\n",
    "\n",
    "## Dictionary\n",
    "Lists are useful when you need to access elements by their position in a sequence. In contrast, a dictionary is needed to find values based on arbitrary identifiers, called “keys”.\n",
    "\n",
    "Construct a dictionary with comma-separated key: value pairs within {...}."
   ]
  },
  {
   "cell_type": "code",
   "execution_count": null,
   "metadata": {
    "collapsed": true,
    "jupyter": {
     "outputs_hidden": true
    }
   },
   "outputs": [],
   "source": [
    "user = {\n",
    "  'First Name': 'J.',\n",
    "  'Last Name': 'Doe',\n",
    "  'Email': 'j.doe@gmail.com',\n",
    "}\n",
    "type(user)"
   ]
  },
  {
   "cell_type": "markdown",
   "metadata": {},
   "source": [
    "Individual values are accessed using square brackets, as for lists, but the key must be used rather than an index."
   ]
  },
  {
   "cell_type": "code",
   "execution_count": null,
   "metadata": {},
   "outputs": [],
   "source": [
    "user['Email']"
   ]
  },
  {
   "cell_type": "markdown",
   "metadata": {},
   "source": [
    "To add a single new element to the dictionary, define a new key:value pair by assigning a value to a novel key in the dictionary."
   ]
  },
  {
   "cell_type": "code",
   "execution_count": null,
   "metadata": {},
   "outputs": [],
   "source": [
    "user['Age'] = 42"
   ]
  },
  {
   "cell_type": "markdown",
   "metadata": {},
   "source": [
    "Dictionary keys are unique. Assigning a value to an existing key overwrites its previous value. You would replace the current Gmail address with user['Email'] = doedoe1337@aol.com."
   ]
  },
  {
   "cell_type": "markdown",
   "metadata": {},
   "source": [
    "### Flow control\n",
    "The syntax for “if … then” tests and for-loops involves plain English and few special characters—you will easily ingest it. Whitespace actually serves as the most important special character, although you may not think of it that way, and that is our main motivation for looking at flow control.\n",
    "\n",
    "### For-loops\n",
    "A for loop takes any “iterable” object and executes a block of code once for each element in the object."
   ]
  },
  {
   "cell_type": "code",
   "execution_count": null,
   "metadata": {
    "collapsed": true,
    "jupyter": {
     "outputs_hidden": true
    }
   },
   "outputs": [],
   "source": [
    "squares = []\n",
    "for i in range(1, 5):\n",
    "    j = i ** 2\n",
    "    squares.append(j)\n",
    "len(squares)"
   ]
  },
  {
   "cell_type": "markdown",
   "metadata": {},
   "source": [
    "The range(i, j) function creates an object that iterates from i up through j - 1; just like in the case of list slices, the range is not inclusive of the upper bound.\n",
    "\n",
    "### Indentation\n",
    "Note the pattern of the block above:\n",
    "\n",
    "the for x in y expression is followed by a :\n",
    "the following lines are indented equally\n",
    "un-indenting indicates the end of the block\n",
    "Compared with other programming languages in which code indentation only serves to enhance readability, Python uses indentation to define “code blocks”. In a sense, indentation serves two purposes in Python, enhancing readiblity and defining complete statements, which is kinda how we use indentation too.\n",
    "\n",
    "### Nesting Indentation\n",
    "Each level of indentation indicates blocks within blocks. Nesting a conditional within a for-loop is a common case.\n",
    "\n",
    "The following example creates a contact list (as a list of dictionaries), then performs a loop over all contacts. Within the loop, a conditional statement (if) checks if the name is ‘Alice’. If so, the interpreter prints her email address; otherwise it prints an empty string."
   ]
  },
  {
   "cell_type": "code",
   "execution_count": null,
   "metadata": {
    "collapsed": true,
    "jupyter": {
     "outputs_hidden": true
    }
   },
   "outputs": [],
   "source": [
    "users = [\n",
    "    {'Name':'Alice', 'Email':'alice@email.com'},\n",
    "    {'Name':'Bob', 'Email': 'bob@email.com'},\n",
    "    ]\n",
    "for u in users:\n",
    "    if u['Name'] == 'Alice':\n",
    "        print(u['Email'])\n",
    "    else:\n",
    "        print('')"
   ]
  },
  {
   "cell_type": "markdown",
   "metadata": {},
   "source": [
    "### Methods\n",
    "The period is a special character in Python that accesses an object’s attributes and methods. In either the Jupyter Notebook or Console, typing an object’s name followed by . and then pressing the TAB key brings up suggestions."
   ]
  },
  {
   "cell_type": "code",
   "execution_count": null,
   "metadata": {},
   "outputs": [],
   "source": [
    "squares.index(4)"
   ]
  },
  {
   "cell_type": "markdown",
   "metadata": {},
   "source": [
    "We call this index() function a method of lists (recall that squares is of type 'list'). A useful feature of having methods attached to objects is that their documentation is attached too."
   ]
  },
  {
   "cell_type": "code",
   "execution_count": null,
   "metadata": {},
   "outputs": [],
   "source": [
    "help(squares.index)"
   ]
  },
  {
   "cell_type": "markdown",
   "metadata": {},
   "source": [
    "A major differnce between Python and R has to do with the process for making functions behave differently for different objects. In Python, a function is attached to an object as a “method”, while in R it is common for a “dispatcher” to examine the attributes of a function call’s arguments and chooses the particular function to use.\n",
    "\n",
    "Dictionary’s have an update() method, for merging the contents of a second dictionary into the one calling update()."
   ]
  },
  {
   "cell_type": "code",
   "execution_count": null,
   "metadata": {},
   "outputs": [],
   "source": [
    "user.update({\n",
    "  'Nickname': 'Jamie',\n",
    "  'Age': 24,\n",
    "})\n",
    "user"
   ]
  },
  {
   "cell_type": "markdown",
   "metadata": {},
   "source": [
    "Note a couple “Pythonic” style choices in the above:\n",
    "\n",
    "Leave a space after the : when declaring key: value pairs\n",
    "Trailing null arguments are syntactically correct, even advantageous\n",
    "White space within (...) has no meaning and can improve readiability\n",
    "The “style-guide” for Python scripting, PEP 8, is first authored by the inventor of Python and adhered too by many. It’s sometimes nice to know their is a preferred way of writing code, but don’t let it be a burden.\n",
    "\n",
    "### Pandas\n",
    "\n",
    "If you have used the statistical programming language R, you are familiar with “data frames”, two-dimensional data structures where each column can hold a different type of data, as in a spreadsheet.\n",
    "\n",
    "The analagous data frame package for Python is pandas, which provides a DataFrame object type with methods to subset, filter reshape and aggregate tabular data.\n",
    "\n",
    "After importing pandas, we call its read_csv function to load the County Business Patterns (CBP) dataset."
   ]
  },
  {
   "cell_type": "code",
   "execution_count": null,
   "metadata": {
    "collapsed": true,
    "jupyter": {
     "outputs_hidden": true
    },
    "scrolled": true
   },
   "outputs": [],
   "source": [
    "import pandas as pd\n",
    "cbp = pd.read_csv('data/cbp15co.csv')\n",
    "cbp.dtypes"
   ]
  },
  {
   "cell_type": "markdown",
   "metadata": {},
   "source": [
    "As is common with CSV files, the inferred data types were not quite right."
   ]
  },
  {
   "cell_type": "code",
   "execution_count": null,
   "metadata": {
    "collapsed": true,
    "jupyter": {
     "outputs_hidden": true
    }
   },
   "outputs": [],
   "source": [
    "cbp = pd.read_csv(\n",
    "    'data/cbp15co.csv',\n",
    "    dtype={'FIPSTATE':'str', 'FIPSCTY':'str'},\n",
    "    )\n",
    "cbp.dtypes"
   ]
  },
  {
   "cell_type": "markdown",
   "metadata": {},
   "source": [
    "There are many ways to slice a DataFrame. To select a subset of rows and/or columns by name, use the loc attribute and [ for indexing."
   ]
  },
  {
   "cell_type": "code",
   "execution_count": null,
   "metadata": {
    "collapsed": true,
    "jupyter": {
     "outputs_hidden": true
    }
   },
   "outputs": [],
   "source": [
    "cbp.loc[:, ['FIPSTATE', 'NAICS']]\n"
   ]
  },
  {
   "cell_type": "markdown",
   "metadata": {},
   "source": [
    "As with lists, : by itself indicates all the rows (or columns). Unlike lists, the loc attribute returns both endpoints of a slice."
   ]
  },
  {
   "cell_type": "code",
   "execution_count": null,
   "metadata": {},
   "outputs": [],
   "source": [
    "cbp.loc[2:4, 'FIPSTATE':'NAICS']"
   ]
  },
  {
   "cell_type": "markdown",
   "metadata": {},
   "source": [
    "Use the iloc attribute of a DataFrame to get rows and/or columns by position, which behaves identically to list indexing."
   ]
  },
  {
   "cell_type": "code",
   "execution_count": null,
   "metadata": {},
   "outputs": [],
   "source": [
    "cbp.iloc[2:4, 0:3]"
   ]
  },
  {
   "cell_type": "markdown",
   "metadata": {},
   "source": [
    "The default indexing for a DataFrame, without using the loc or iloc attributes, is by column name."
   ]
  },
  {
   "cell_type": "code",
   "execution_count": null,
   "metadata": {},
   "outputs": [],
   "source": [
    "cbp[['NAICS', 'AP']].head()\n"
   ]
  },
  {
   "cell_type": "markdown",
   "metadata": {},
   "source": [
    "The loc attribute also allows logical indexing, i.e. the use of a boolean array of appropriate length for the selected dimension. The subset of cbp with sector level NAICS codes can indexed with string matching."
   ]
  },
  {
   "cell_type": "code",
   "execution_count": null,
   "metadata": {},
   "outputs": [],
   "source": [
    "logical_idx = cbp['NAICS'].str.match('[0-9]{2}----')\n",
    "cbp = cbp.loc[logical_idx]\n",
    "cbp.head()"
   ]
  },
  {
   "cell_type": "markdown",
   "metadata": {},
   "source": [
    "Creation of new variables, our old favorite the full FIPS identifier, is done by assignment to new column names, using another str method."
   ]
  },
  {
   "cell_type": "code",
   "execution_count": null,
   "metadata": {},
   "outputs": [],
   "source": [
    "cbp['FIPS'] = cbp['FIPSTATE'].str.cat(cbp['FIPSCTY'])\n",
    "cbp.head()"
   ]
  },
  {
   "cell_type": "markdown",
   "metadata": {},
   "source": [
    "### Index\n",
    "The DataFrame object includes the notion of “primary keys” for a table in its Index construct. One or more columns that uniquely identify rows can be set aside from the remaining columns."
   ]
  },
  {
   "cell_type": "code",
   "execution_count": null,
   "metadata": {},
   "outputs": [],
   "source": [
    "cbp = cbp.set_index(['FIPS', 'NAICS'])\n",
    "cbp.head()"
   ]
  },
  {
   "cell_type": "markdown",
   "metadata": {},
   "source": [
    "Any hierarchical index can be “unstacked”, and all columns appropriately spread into a “wide” table layout."
   ]
  },
  {
   "cell_type": "code",
   "execution_count": null,
   "metadata": {},
   "outputs": [],
   "source": [
    "cbp = cbp[['EMP', 'AP']].unstack(fill_value=0)\n"
   ]
  },
  {
   "cell_type": "markdown",
   "metadata": {},
   "source": [
    "The last transformation kept only two variables for each FIPS and NAICS combination: the number of employees and the annual payroll (x $1000). By now, it may be obvious we are slowly working towards some goal!\n",
    "\n",
    "The number of employees in just two sectors will serve as the set of variables (i.e. columns) by which we attempt to classify each county as “Metro” (i.e. urban) or not (i.e. rural). The first code is for Agriculture, Forestry, Fishing, and Hunting. The second is Accommodation and Food Services."
   ]
  },
  {
   "cell_type": "code",
   "execution_count": null,
   "metadata": {},
   "outputs": [],
   "source": [
    "employment = cbp['EMP']\n",
    "employment = employment.loc[:, ['11----', '72----']]\n",
    "employment.head()"
   ]
  },
  {
   "cell_type": "markdown",
   "metadata": {},
   "source": [
    "### Classification\n",
    "The CBP dataset provides economic attributes of the three thousand and some US counties. The employment numbers are continuous attributes, and we expect those are somehow different between urban and rural counties.\n",
    "\n",
    "We need a classifier suitable for:\n",
    "\n",
    "many continuous “predictors”\n",
    "a binary “response”\n",
    "Continuous attributes paried with a binary class, which we hope to predict given a model and a set of training data, could be a problem for logistic regression. An alternative method, and a foundation of machine learning, is the Support Vector Machine.\n",
    "\n",
    "\n",
    "Image by Alisneaky / CC BY-SA\n",
    "\n",
    "The name arises from the main optimization task: choosing a subset of the training data attributes to be the “support vectors” (vector is another way of referring to a point in attribute space). The support vectors sit near (“support”) a barrier that more or less divides attribute space into regions dominated by a single class. The points sitting on the dashed lines above are the support vectors.\n",
    "\n",
    "The USDA ERS classifies the counties of the US with a set of 9 Rural-Urban Continuum Codes. Joining these to the CBP attributes, and creating a binary “Metropolitan” class based on the the codes for urban-influenced areas, completes our dataset."
   ]
  },
  {
   "cell_type": "code",
   "execution_count": null,
   "metadata": {},
   "outputs": [],
   "source": [
    "rural_urban = pd.read_csv(\n",
    "    'data/ruralurbancodes2013.csv',\n",
    "    dtype={'FIPS':'str'},\n",
    "    ).set_index('FIPS')\n",
    "rural_urban['Metro'] = rural_urban['RUCC_2013'] < 4"
   ]
  },
  {
   "cell_type": "markdown",
   "metadata": {},
   "source": [
    "By default, the join will take place on the index, which serves as a primary key, for each table. It is a one-to-one join."
   ]
  },
  {
   "cell_type": "code",
   "execution_count": null,
   "metadata": {},
   "outputs": [],
   "source": [
    "employment_rural_urban = employment.join(\n",
    "    rural_urban['Metro'],\n",
    "    how='inner',\n",
    "    )"
   ]
  },
  {
   "cell_type": "markdown",
   "metadata": {},
   "source": [
    "Only the single variable “Metro” is taken from the rural_urban table for use in the classification problem.\n",
    "\n",
    "Model evaluation for SVMs and other machine learning methods lacking a probabilistic interpretion is based on subsetting data into “training” and “validation” sets."
   ]
  },
  {
   "cell_type": "code",
   "execution_count": null,
   "metadata": {},
   "outputs": [],
   "source": [
    "import numpy as np\n",
    "\n",
    "train = employment_rural_urban.sample(\n",
    "    frac=0.5,\n",
    "    random_state = np.random.seed(345))"
   ]
  },
  {
   "cell_type": "markdown",
   "metadata": {},
   "source": [
    "Import the learning machine from sklearn, and pass the training data separately as the attributes (as X below) and class (as y)."
   ]
  },
  {
   "cell_type": "code",
   "execution_count": null,
   "metadata": {},
   "outputs": [],
   "source": [
    "from sklearn import svm\n",
    "ml = svm.LinearSVC()\n",
    "\n",
    "X = train.drop('Metro', axis=1).values[:, :2]\n",
    "X = np.log(1 + X)\n",
    "y = train['Metro'].values.astype(int)\n",
    "\n",
    "ml.fit(X, y)"
   ]
  },
  {
   "cell_type": "markdown",
   "metadata": {},
   "source": [
    "Why np.log(1 + X)? Remember, “whatever it takes” is the machine learning mantra. In this case the high skew of the employment numbers had attributes widely dispersed in attribute space, and the fit was worse (and harder to visualize). The offset with a positive number is necessary to keep counties with 0 employees in a sector.\n",
    "\n",
    "### Classifier Evaluation\n",
    "The “confusion matrix” shows the largest numbers are on the diagonal—that is the number of metro and Non-metro data points correctly separated by the chosen support vectors."
   ]
  },
  {
   "cell_type": "code",
   "execution_count": null,
   "metadata": {},
   "outputs": [],
   "source": [
    "from sklearn import metrics\n",
    "\n",
    "metrics.confusion_matrix(y, ml.predict(X), (True, False))"
   ]
  },
  {
   "cell_type": "markdown",
   "metadata": {},
   "source": [
    "A quick visualization using the mlxtend package shows the challenge of separating this attribute space!"
   ]
  },
  {
   "cell_type": "code",
   "execution_count": null,
   "metadata": {},
   "outputs": [],
   "source": [
    "from mlxtend.plotting import plot_decision_regions\n",
    "\n",
    "plot_decision_regions(X, y, clf=ml, legend=2)"
   ]
  },
  {
   "cell_type": "markdown",
   "metadata": {},
   "source": [
    "### Kernel Method\n",
    "The LinearSVM is rarely used in practice despite its speed—rare is the case when a hyperplane cleanly separates the attributes. The more general SVC machine accepts multiple kernel options that provide great flexibility in the shape of the barrier (no longer a hyperplane)."
   ]
  },
  {
   "cell_type": "code",
   "execution_count": null,
   "metadata": {},
   "outputs": [],
   "source": [
    "ml = svm.SVC(kernel = 'rbf', C=1, gamma='auto')\n",
    "ml.fit(X, y)"
   ]
  },
  {
   "cell_type": "markdown",
   "metadata": {},
   "source": [
    "The improvement in the confusion matrix is slight—we have not tuned the gamma value, which is automatically chosen based on the size of the dataset."
   ]
  },
  {
   "cell_type": "code",
   "execution_count": null,
   "metadata": {},
   "outputs": [],
   "source": [
    "metrics.confusion_matrix(y, ml.predict(X), (True, False))"
   ]
  },
  {
   "cell_type": "markdown",
   "metadata": {},
   "source": [
    "More important is to understand the nature of the separation, which can “wrap around” the attribute space as necessary."
   ]
  },
  {
   "cell_type": "code",
   "execution_count": null,
   "metadata": {},
   "outputs": [],
   "source": [
    "plot_decision_regions(X, y, clf=ml, legend=2)"
   ]
  },
  {
   "cell_type": "markdown",
   "metadata": {},
   "source": [
    "### Summary\n",
    "Python is said to have a gentle learning curve, but all new languages take practice.\n",
    "\n",
    "Key concepts covered in this lesson include:\n",
    "\n",
    "* Variables, or objects\n",
    "* Data structures\n",
    "* Methods\n",
    "* pandas DataFrame\n",
    "* Scikit-learn SVC\n",
    "Additional critical packages for data science:\n",
    "\n",
    "* matplotlib, plotly, seaborn for vizualization\n",
    "* StatsModels, and pystan for model fitting\n",
    "* PyQGIS, rasterio, Shapely, and Cartopy for GIS"
   ]
  },
  {
   "cell_type": "markdown",
   "metadata": {},
   "source": [
    "## Exercises\n",
    "### Exercise 1\n",
    "Explore the use of in to test membership in a list. Create a list of multiple integers, and use in to test membership of some other numbers in your list."
   ]
  },
  {
   "cell_type": "code",
   "execution_count": null,
   "metadata": {},
   "outputs": [],
   "source": [
    "answers = [2, 15, 42, 19]\n",
    "42 in answers"
   ]
  },
  {
   "cell_type": "markdown",
   "metadata": {},
   "source": [
    "### Exercise 2\n",
    "Based on what we have learned so far about lists and dictionaries, think up a data structure suitable for an address book of names and emails. Now create it! Enter the name and email address for yourself and your neighbor in a new variable called addr."
   ]
  },
  {
   "cell_type": "code",
   "execution_count": null,
   "metadata": {},
   "outputs": [],
   "source": [
    "addr = [\n",
    "  {'name': 'Alice', 'email': 'alice@gmail.com'},\n",
    "  {'name': 'Bob', 'email': 'bob59@aol.com'},\n",
    "]"
   ]
  },
  {
   "cell_type": "markdown",
   "metadata": {},
   "source": [
    "### Exercise 3\n",
    "Write a for-loop that prints all even numbers between 1 and 9. Use the modulo operator (%) to check for evenness: if i is even, then i % 2 returns 0, because % gives the remainder after division of the first number by the second."
   ]
  },
  {
   "cell_type": "code",
   "execution_count": null,
   "metadata": {},
   "outputs": [],
   "source": [
    "for i in range(1, 9):\n",
    "  if i % 2 == 0:\n",
    "    print(i)"
   ]
  },
  {
   "cell_type": "markdown",
   "metadata": {},
   "source": [
    "### Exercise 4\n",
    "Tune the gamma parameter for the Support Vector Machine from above that used the rbf kernel method. It can take any postivie value. Can you improve the confusion matrix? How does gamma appear to affect the regions seen with plot_decision_regions? Does the consuion matrix look okay out-of-sample (i.e. making predictions for the counties not used for training)?"
   ]
  },
  {
   "cell_type": "code",
   "execution_count": null,
   "metadata": {},
   "outputs": [],
   "source": [
    "metrics.confusion_matrix(y, ml.predict(X), (True, False))"
   ]
  }
 ],
 "metadata": {
  "kernelspec": {
   "display_name": "Python 3",
   "language": "python",
   "name": "python3"
  },
  "language_info": {
   "codemirror_mode": {
    "name": "ipython",
    "version": 3
   },
   "file_extension": ".py",
   "mimetype": "text/x-python",
   "name": "python",
   "nbconvert_exporter": "python",
   "pygments_lexer": "ipython3",
   "version": "3.7.3"
  }
 },
 "nbformat": 4,
 "nbformat_minor": 4
}
